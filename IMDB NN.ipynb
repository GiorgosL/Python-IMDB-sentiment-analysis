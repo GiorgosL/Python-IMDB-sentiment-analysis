{
 "cells": [
  {
   "cell_type": "code",
   "execution_count": 30,
   "metadata": {},
   "outputs": [],
   "source": [
    "import pandas as pd\n",
    "import nltk\n",
    "import re\n",
    "import keras\n",
    "import sklearn.metrics as metrics\n",
    "import matplotlib.pyplot as plt\n",
    "from nltk.tokenize import ToktokTokenizer\n",
    "from nltk.corpus import stopwords\n",
    "from nltk.stem.porter import PorterStemmer\n",
    "from bs4 import BeautifulSoup\n",
    "from sklearn.feature_extraction.text import TfidfVectorizer\n",
    "from sklearn.preprocessing import LabelBinarizer\n",
    "from sklearn.model_selection import train_test_split\n",
    "from keras.layers import Activation, Dense, Dropout, Embedding, LSTM\n",
    "from keras.models import Sequential\n",
    "from keras.callbacks import EarlyStopping\n",
    "from keras.preprocessing.text import Tokenizer\n",
    "from keras.preprocessing.sequence import pad_sequences\n",
    "import warnings\n",
    "\n",
    "warnings.filterwarnings(\"ignore\")"
   ]
  },
  {
   "cell_type": "code",
   "execution_count": 2,
   "metadata": {},
   "outputs": [],
   "source": [
    "data = pd.read_csv('IMDB Dataset.csv')"
   ]
  },
  {
   "cell_type": "code",
   "execution_count": 3,
   "metadata": {},
   "outputs": [
    {
     "data": {
      "text/plain": [
       "50000"
      ]
     },
     "execution_count": 3,
     "metadata": {},
     "output_type": "execute_result"
    }
   ],
   "source": [
    "len(data)"
   ]
  },
  {
   "cell_type": "code",
   "execution_count": 4,
   "metadata": {},
   "outputs": [
    {
     "data": {
      "image/png": "[encoded data removed]",
      "text/plain": [
       "<Figure size 432x288 with 1 Axes>"
      ]
     },
     "metadata": {
      "needs_background": "light"
     },
     "output_type": "display_data"
    }
   ],
   "source": [
    "data.sentiment.value_counts().plot.bar()\n",
    "plt.show()"
   ]
  },
  {
   "cell_type": "markdown",
   "metadata": {},
   "source": [
    "# Text preprocessing"
   ]
  },
  {
   "cell_type": "code",
   "execution_count": 5,
   "metadata": {},
   "outputs": [],
   "source": [
    "stop = nltk.corpus.stopwords.words('english')"
   ]
  },
  {
   "cell_type": "code",
   "execution_count": 6,
   "metadata": {},
   "outputs": [],
   "source": [
    "def remove_html(text):\n",
    "    soup = BeautifulSoup(text, \"html.parser\")\n",
    "    return soup.get_text()\n",
    "\n",
    "def remove_special_characters(text, remove_digits=True):\n",
    "    pattern = r'[^a-zA-z0-9\\s]'\n",
    "    text = re.sub('\\[[^]]*\\]', '', text)\n",
    "    text = re.sub(pattern,'',text)\n",
    "    return text\n",
    "\n",
    "def remove_stopwords(text, is_lower_case=False):\n",
    "    tokenizer = ToktokTokenizer()\n",
    "    tokens = tokenizer.tokenize(text)\n",
    "    tokens = [token.strip() for token in tokens]\n",
    "    \n",
    "    if is_lower_case:\n",
    "        filtered_tokens = [token for token in tokens if token not in stop]\n",
    "        \n",
    "    else:\n",
    "        filtered_tokens = [token for token in tokens if token.lower() not in stop]\n",
    "    filtered_text = ' '.join(filtered_tokens)    \n",
    "    return filtered_text\n",
    "\n",
    "def stemmer(text):\n",
    "    ps = nltk.porter.PorterStemmer()\n",
    "    text = ' '.join([ps.stem(word) for word in text.split()])\n",
    "    return text"
   ]
  },
  {
   "cell_type": "code",
   "execution_count": 7,
   "metadata": {
    "scrolled": false
   },
   "outputs": [],
   "source": [
    "data['review'] = data['review'].apply(remove_html)\n",
    "data['review'] = data['review'].apply(remove_special_characters)\n",
    "data['review'] = data['review'].apply(remove_stopwords)\n",
    "data['review'] = data['review'].apply(stemmer)"
   ]
  },
  {
   "cell_type": "markdown",
   "metadata": {},
   "source": [
    "# Models"
   ]
  },
  {
   "cell_type": "code",
   "execution_count": 25,
   "metadata": {},
   "outputs": [],
   "source": [
    "METRICS = [\n",
    "      keras.metrics.TruePositives(name='tp'),\n",
    "      keras.metrics.FalsePositives(name='fp'),\n",
    "      keras.metrics.TrueNegatives(name='tn'),\n",
    "      keras.metrics.FalseNegatives(name='fn'), \n",
    "      keras.metrics.BinaryAccuracy(name='accuracy'),\n",
    "      keras.metrics.Precision(name='precision'),\n",
    "      keras.metrics.Recall(name='recall'),\n",
    "      keras.metrics.AUC(name='auc'),\n",
    "]"
   ]
  },
  {
   "cell_type": "markdown",
   "metadata": {},
   "source": [
    "## ANN - tfidf"
   ]
  },
  {
   "cell_type": "code",
   "execution_count": 9,
   "metadata": {},
   "outputs": [],
   "source": [
    "X = data.review\n",
    "y = data.sentiment\n",
    "X_train, X_test, y_train, y_test = train_test_split(X, y, test_size=0.33, random_state = 42)"
   ]
  },
  {
   "cell_type": "code",
   "execution_count": 10,
   "metadata": {},
   "outputs": [],
   "source": [
    "lb = LabelBinarizer()\n",
    "y_train = lb.fit_transform(y_train)\n",
    "y_test = lb.fit_transform(y_test)"
   ]
  },
  {
   "cell_type": "code",
   "execution_count": 11,
   "metadata": {},
   "outputs": [],
   "source": [
    "tv = TfidfVectorizer()\n",
    "X_train_tv = tv.fit_transform(X_train)\n",
    "X_test_tv = tv.transform(X_test)"
   ]
  },
  {
   "cell_type": "code",
   "execution_count": 12,
   "metadata": {},
   "outputs": [
    {
     "name": "stdout",
     "output_type": "stream",
     "text": [
      "Model: \"sequential_1\"\n",
      "_________________________________________________________________\n",
      "Layer (type)                 Output Shape              Param #   \n",
      "=================================================================\n",
      "dense_1 (Dense)              (None, 32)                4408096   \n",
      "_________________________________________________________________\n",
      "dropout_1 (Dropout)          (None, 32)                0         \n",
      "_________________________________________________________________\n",
      "dense_2 (Dense)              (None, 1)                 33        \n",
      "=================================================================\n",
      "Total params: 4,408,129\n",
      "Trainable params: 4,408,129\n",
      "Non-trainable params: 0\n",
      "_________________________________________________________________\n"
     ]
    }
   ],
   "source": [
    "model = Sequential()\n",
    "model.add(Dense(32, activation ='relu',input_dim = X_train_tv.shape[-1]))\n",
    "model.add(Dropout(0.5))\n",
    "model.add(Dense(1, activation = 'sigmoid'))\n",
    "model.compile(optimizer='adam', loss = 'binary_crossentropy', metrics = METRICS)\n",
    "model.summary()"
   ]
  },
  {
   "cell_type": "code",
   "execution_count": 13,
   "metadata": {},
   "outputs": [],
   "source": [
    "early = [EarlyStopping(monitor = 'auc', patience = 3, min_delta = 0.0001)]"
   ]
  },
  {
   "cell_type": "code",
   "execution_count": 14,
   "metadata": {},
   "outputs": [
    {
     "name": "stdout",
     "output_type": "stream",
     "text": [
      "WARNING:tensorflow:From C:\\Users\\Giorgos\\anaconda3\\lib\\site-packages\\tensorflow\\python\\ops\\math_ops.py:3066: to_int32 (from tensorflow.python.ops.math_ops) is deprecated and will be removed in a future version.\n",
      "Instructions for updating:\n",
      "Use tf.cast instead.\n",
      "Train on 23450 samples, validate on 10050 samples\n",
      "Epoch 1/100\n",
      " - 70s - loss: 0.4857 - tp: 10163.0000 - fp: 2406.0000 - tn: 9360.0000 - fn: 1521.0000 - accuracy: 0.8325 - precision: 0.8086 - recall: 0.8698 - auc: 0.9017 - val_loss: 0.3270 - val_tp: 4615.0000 - val_fp: 792.0000 - val_tn: 4234.0000 - val_fn: 409.0000 - val_accuracy: 0.8805 - val_precision: 0.8535 - val_recall: 0.9186 - val_auc: 0.9534\n",
      "Epoch 2/100\n",
      " - 72s - loss: 0.2489 - tp: 10803.0000 - fp: 1088.0000 - tn: 10678.0000 - fn: 881.0000 - accuracy: 0.9160 - precision: 0.9085 - recall: 0.9246 - auc: 0.9704 - val_loss: 0.2669 - val_tp: 4479.0000 - val_fp: 550.0000 - val_tn: 4476.0000 - val_fn: 545.0000 - val_accuracy: 0.8910 - val_precision: 0.8906 - val_recall: 0.8915 - val_auc: 0.9592\n",
      "Epoch 3/100\n",
      " - 77s - loss: 0.1600 - tp: 11158.0000 - fp: 602.0000 - tn: 11164.0000 - fn: 526.0000 - accuracy: 0.9519 - precision: 0.9488 - recall: 0.9550 - auc: 0.9875 - val_loss: 0.2591 - val_tp: 4509.0000 - val_fp: 556.0000 - val_tn: 4470.0000 - val_fn: 515.0000 - val_accuracy: 0.8934 - val_precision: 0.8902 - val_recall: 0.8975 - val_auc: 0.9591\n",
      "Epoch 4/100\n",
      " - 73s - loss: 0.1098 - tp: 11310.0000 - fp: 360.0000 - tn: 11406.0000 - fn: 374.0000 - accuracy: 0.9687 - precision: 0.9692 - recall: 0.9680 - auc: 0.9941 - val_loss: 0.2656 - val_tp: 4517.0000 - val_fp: 590.0000 - val_tn: 4436.0000 - val_fn: 507.0000 - val_accuracy: 0.8908 - val_precision: 0.8845 - val_recall: 0.8991 - val_auc: 0.9580\n",
      "Wall time: 4min 52s\n"
     ]
    }
   ],
   "source": [
    "%%time\n",
    "hist = model.fit(X_train_tv, y_train, epochs=100, validation_split = 0.3, verbose=2, batch_size=50, callbacks = early)"
   ]
  },
  {
   "cell_type": "code",
   "execution_count": 16,
   "metadata": {},
   "outputs": [
    {
     "name": "stdout",
     "output_type": "stream",
     "text": [
      "16500/16500 [==============================] - 17s 1ms/step\n",
      "loss :  0.25716569916407267\n",
      "tp :  7519.0\n",
      "fp :  962.0\n",
      "tn :  7246.0\n",
      "fn :  773.0\n",
      "accuracy :  0.8948484659194946\n",
      "precision :  0.8865699768066406\n",
      "recall :  0.9067776203155518\n",
      "auc :  0.9608809947967529\n"
     ]
    }
   ],
   "source": [
    "results = model.evaluate(X_test_tv, y_test)\n",
    "for name, value in zip(model.metrics_names, results):\n",
    "    print(name, ': ', value)"
   ]
  },
  {
   "cell_type": "markdown",
   "metadata": {},
   "source": [
    "##  RNN - Keras tokenizing "
   ]
  },
  {
   "cell_type": "code",
   "execution_count": 17,
   "metadata": {},
   "outputs": [],
   "source": [
    "MAX_NB_WORDS = 50000\n",
    "MAX_SEQUENCE_LENGTH = 250\n",
    "EMBEDDING_DIM = 100\n",
    "\n",
    "tokenizer = Tokenizer(num_words=MAX_NB_WORDS, lower=True)\n",
    "tokenizer.fit_on_texts(data['review'].values)"
   ]
  },
  {
   "cell_type": "code",
   "execution_count": 18,
   "metadata": {},
   "outputs": [],
   "source": [
    "X = tokenizer.texts_to_sequences(data['review'].values)\n",
    "X = pad_sequences(X, maxlen=MAX_SEQUENCE_LENGTH)"
   ]
  },
  {
   "cell_type": "code",
   "execution_count": 19,
   "metadata": {},
   "outputs": [],
   "source": [
    "X_train, X_test, y_train, y_test = train_test_split(X, y, test_size=0.33, random_state = 42)"
   ]
  },
  {
   "cell_type": "code",
   "execution_count": 20,
   "metadata": {},
   "outputs": [
    {
     "data": {
      "text/plain": [
       "((33500, 250), (33500,), (16500, 250), (16500,))"
      ]
     },
     "execution_count": 20,
     "metadata": {},
     "output_type": "execute_result"
    }
   ],
   "source": [
    "X_train.shape, y_train.shape, X_test.shape, y_test.shape"
   ]
  },
  {
   "cell_type": "code",
   "execution_count": 21,
   "metadata": {},
   "outputs": [],
   "source": [
    "lb = LabelBinarizer()\n",
    "y_train = lb.fit_transform(y_train)\n",
    "y_test = lb.fit_transform(y_test)"
   ]
  },
  {
   "cell_type": "code",
   "execution_count": 27,
   "metadata": {},
   "outputs": [
    {
     "name": "stdout",
     "output_type": "stream",
     "text": [
      "Model: \"sequential_3\"\n",
      "_________________________________________________________________\n",
      "Layer (type)                 Output Shape              Param #   \n",
      "=================================================================\n",
      "embedding_2 (Embedding)      (None, 250, 100)          5000000   \n",
      "_________________________________________________________________\n",
      "dropout_3 (Dropout)          (None, 250, 100)          0         \n",
      "_________________________________________________________________\n",
      "lstm_2 (LSTM)                (None, 100)               80400     \n",
      "_________________________________________________________________\n",
      "dense_4 (Dense)              (None, 1)                 101       \n",
      "=================================================================\n",
      "Total params: 5,080,501\n",
      "Trainable params: 5,080,501\n",
      "Non-trainable params: 0\n",
      "_________________________________________________________________\n"
     ]
    }
   ],
   "source": [
    "model = Sequential()\n",
    "model.add(Embedding(MAX_NB_WORDS, EMBEDDING_DIM, input_length=X_train.shape[1]))\n",
    "model.add(Dropout(0.3))\n",
    "model.add(LSTM(100, dropout=0.3))\n",
    "model.add(Dense(1, activation='sigmoid'))\n",
    "model.compile(loss='binary_crossentropy', optimizer='adam', metrics=METRICS)\n",
    "model.summary()"
   ]
  },
  {
   "cell_type": "code",
   "execution_count": 23,
   "metadata": {},
   "outputs": [],
   "source": [
    "early = [EarlyStopping(monitor = 'auc', patience = 3, min_delta = 0.0001)]"
   ]
  },
  {
   "cell_type": "code",
   "execution_count": 28,
   "metadata": {},
   "outputs": [
    {
     "name": "stdout",
     "output_type": "stream",
     "text": [
      "Train on 23450 samples, validate on 10050 samples\n",
      "Epoch 1/100\n",
      " - 254s - loss: 0.3869 - tp: 9473.0000 - fp: 1882.0000 - tn: 9884.0000 - fn: 2211.0000 - accuracy: 0.8255 - precision: 0.8343 - recall: 0.8108 - auc: 0.9075 - val_loss: 0.3030 - val_tp: 4606.0000 - val_fp: 835.0000 - val_tn: 4191.0000 - val_fn: 418.0000 - val_accuracy: 0.8753 - val_precision: 0.8465 - val_recall: 0.9168 - val_auc: 0.9458\n",
      "Epoch 2/100\n",
      " - 246s - loss: 0.2062 - tp: 10811.0000 - fp: 927.0000 - tn: 10839.0000 - fn: 873.0000 - accuracy: 0.9232 - precision: 0.9210 - recall: 0.9253 - auc: 0.9729 - val_loss: 0.2946 - val_tp: 4362.0000 - val_fp: 530.0000 - val_tn: 4496.0000 - val_fn: 662.0000 - val_accuracy: 0.8814 - val_precision: 0.8917 - val_recall: 0.8682 - val_auc: 0.9487\n",
      "Epoch 3/100\n",
      " - 245s - loss: 0.1230 - tp: 11198.0000 - fp: 483.0000 - tn: 11283.0000 - fn: 486.0000 - accuracy: 0.9587 - precision: 0.9587 - recall: 0.9584 - auc: 0.9895 - val_loss: 0.3493 - val_tp: 4054.0000 - val_fp: 390.0000 - val_tn: 4636.0000 - val_fn: 970.0000 - val_accuracy: 0.8647 - val_precision: 0.9122 - val_recall: 0.8069 - val_auc: 0.9423\n",
      "Epoch 4/100\n",
      " - 255s - loss: 0.0882 - tp: 11326.0000 - fp: 347.0000 - tn: 11419.0000 - fn: 358.0000 - accuracy: 0.9699 - precision: 0.9703 - recall: 0.9694 - auc: 0.9941 - val_loss: 0.3847 - val_tp: 4378.0000 - val_fp: 665.0000 - val_tn: 4361.0000 - val_fn: 646.0000 - val_accuracy: 0.8696 - val_precision: 0.8681 - val_recall: 0.8714 - val_auc: 0.9379\n",
      "Wall time: 16min 43s\n"
     ]
    }
   ],
   "source": [
    "%%time\n",
    "hist = model.fit(X_train, y_train, epochs=100, validation_split = 0.3, verbose=2, batch_size=50, callbacks = early)"
   ]
  },
  {
   "cell_type": "code",
   "execution_count": 29,
   "metadata": {},
   "outputs": [
    {
     "name": "stdout",
     "output_type": "stream",
     "text": [
      "16500/16500 [==============================] - 39s 2ms/step\n",
      "loss :  0.3713290452957153\n",
      "tp :  7293.0\n",
      "fp :  1107.0\n",
      "tn :  7101.0\n",
      "fn :  999.0\n",
      "accuracy :  0.8723636269569397\n",
      "precision :  0.8682143092155457\n",
      "recall :  0.879522442817688\n",
      "auc :  0.940457820892334\n"
     ]
    }
   ],
   "source": [
    "results = model.evaluate(X_test, y_test)\n",
    "for name, value in zip(model.metrics_names, results):\n",
    "    print(name, ': ', value)"
   ]
  }
 ],
 "metadata": {
  "kernelspec": {
   "display_name": "Python 3",
   "language": "python",
   "name": "python3"
  },
  "language_info": {
   "codemirror_mode": {
    "name": "ipython",
    "version": 3
   },
   "file_extension": ".py",
   "mimetype": "text/x-python",
   "name": "python",
   "nbconvert_exporter": "python",
   "pygments_lexer": "ipython3",
   "version": "3.7.6"
  }
 },
 "nbformat": 4,
 "nbformat_minor": 4
}
