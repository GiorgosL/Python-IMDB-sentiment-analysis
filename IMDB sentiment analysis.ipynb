{
 "cells": [
  {
   "cell_type": "code",
   "execution_count": 17,
   "metadata": {},
   "outputs": [],
   "source": [
    "import numpy as np\n",
    "import pandas as pd\n",
    "import nltk\n",
    "import spacy\n",
    "import re\n",
    "import matplotlib.pyplot as plt\n",
    "from sklearn.feature_extraction.text import CountVectorizer\n",
    "from sklearn.feature_extraction.text import TfidfVectorizer\n",
    "from sklearn.preprocessing import LabelBinarizer\n",
    "from nltk.tokenize import ToktokTokenizer\n",
    "from nltk.corpus import stopwords\n",
    "from nltk.stem.porter import PorterStemmer\n",
    "from bs4 import BeautifulSoup\n",
    "from sklearn.naive_bayes import MultinomialNB\n",
    "from sklearn.linear_model import LogisticRegression\n",
    "from sklearn.model_selection import train_test_split\n",
    "from sklearn.metrics import confusion_matrix\n",
    "from sklearn.metrics import roc_auc_score\n",
    "import warnings\n",
    "\n",
    "warnings.filterwarnings(\"ignore\")"
   ]
  },
  {
   "cell_type": "code",
   "execution_count": 2,
   "metadata": {},
   "outputs": [],
   "source": [
    "data = pd.read_csv('IMDB Dataset.csv')"
   ]
  },
  {
   "cell_type": "code",
   "execution_count": 3,
   "metadata": {},
   "outputs": [
    {
     "data": {
      "image/png": "[encoded data removed]",
      "text/plain": [
       "<Figure size 432x288 with 1 Axes>"
      ]
     },
     "metadata": {
      "needs_background": "light"
     },
     "output_type": "display_data"
    }
   ],
   "source": [
    "data.sentiment.value_counts().plot.bar()\n",
    "plt.show()"
   ]
  },
  {
   "cell_type": "markdown",
   "metadata": {},
   "source": [
    "# Text preprocessing"
   ]
  },
  {
   "cell_type": "code",
   "execution_count": 4,
   "metadata": {},
   "outputs": [],
   "source": [
    "stop = nltk.corpus.stopwords.words('english')"
   ]
  },
  {
   "cell_type": "code",
   "execution_count": 5,
   "metadata": {},
   "outputs": [],
   "source": [
    "def remove_html(text):\n",
    "    soup = BeautifulSoup(text, \"html.parser\")\n",
    "    return soup.get_text()\n",
    "\n",
    "def remove_special_characters(text, remove_digits=True):\n",
    "    pattern = r'[^a-zA-z0-9\\s]'\n",
    "    text = re.sub('\\[[^]]*\\]', '', text)\n",
    "    text = re.sub(pattern,'',text)\n",
    "    return text\n",
    "\n",
    "def remove_stopwords(text, is_lower_case=False):\n",
    "    tokenizer = ToktokTokenizer()\n",
    "    tokens = tokenizer.tokenize(text)\n",
    "    tokens = [token.strip() for token in tokens]\n",
    "    \n",
    "    if is_lower_case:\n",
    "        filtered_tokens = [token for token in tokens if token not in stop]\n",
    "        \n",
    "    else:\n",
    "        filtered_tokens = [token for token in tokens if token.lower() not in stop]\n",
    "    filtered_text = ' '.join(filtered_tokens)    \n",
    "    return filtered_text\n",
    "\n",
    "def stemmer(text):\n",
    "    ps = nltk.porter.PorterStemmer()\n",
    "    text = ' '.join([ps.stem(word) for word in text.split()])\n",
    "    return text"
   ]
  },
  {
   "cell_type": "code",
   "execution_count": 6,
   "metadata": {},
   "outputs": [],
   "source": [
    "data['review'] = data['review'].apply(normalise_text)"
   ]
  },
  {
   "cell_type": "code",
   "execution_count": 7,
   "metadata": {},
   "outputs": [],
   "source": [
    "data['review'] = data['review'].apply(remove_special_characters)"
   ]
  },
  {
   "cell_type": "code",
   "execution_count": 8,
   "metadata": {},
   "outputs": [],
   "source": [
    "data['review'] = data['review'].apply(remove_stopwords)"
   ]
  },
  {
   "cell_type": "code",
   "execution_count": 9,
   "metadata": {},
   "outputs": [],
   "source": [
    "data['review'] = data['review'].apply(stemmer)"
   ]
  },
  {
   "cell_type": "code",
   "execution_count": 10,
   "metadata": {},
   "outputs": [],
   "source": [
    "X = data.review\n",
    "y = data.sentiment"
   ]
  },
  {
   "cell_type": "code",
   "execution_count": 11,
   "metadata": {},
   "outputs": [],
   "source": [
    "seed = 42"
   ]
  },
  {
   "cell_type": "code",
   "execution_count": 12,
   "metadata": {},
   "outputs": [],
   "source": [
    "X_train, X_test, y_train, y_test = train_test_split(X, y, test_size=0.33, random_state = seed)"
   ]
  },
  {
   "cell_type": "code",
   "execution_count": 13,
   "metadata": {},
   "outputs": [],
   "source": [
    "# binarize the categorical statemnt\n",
    "lb = LabelBinarizer()\n",
    "train_sentiment = lb.fit_transform(y_train)\n",
    "test_sentiment = lb.fit_transform(y_test)"
   ]
  },
  {
   "cell_type": "markdown",
   "metadata": {},
   "source": [
    "### Metrics"
   ]
  },
  {
   "cell_type": "code",
   "execution_count": 14,
   "metadata": {},
   "outputs": [],
   "source": [
    "def binary_classification_performance(y_test, y_pred, model):\n",
    "    \n",
    "    tn, fp, fn, tp = confusion_matrix(y_test, y_pred).ravel()\n",
    "    accuracy = (tp + tn) / (tp + tn + fp + fn)\n",
    "    precision = tp / (tp + fp)\n",
    "    recall = tp / (tp + fn)\n",
    "    f1_score = 2 * precision * recall / (precision + recall) \n",
    "    auc_roc = round(roc_auc_score(y_score = y_pred, y_true = y_test),2)\n",
    "    model_name = model\n",
    "    result = pd.DataFrame({\n",
    "                         'Model' : [model_name],\n",
    "                         'Accuracy':[accuracy],\n",
    "                         'Precision' : [precision],\n",
    "                         'Recall': [recall],\n",
    "                         'f1 score' : [f1_score],\n",
    "                        })\n",
    "    \n",
    "    return result"
   ]
  },
  {
   "cell_type": "markdown",
   "metadata": {},
   "source": [
    "# BoW - tfidf"
   ]
  },
  {
   "cell_type": "markdown",
   "metadata": {},
   "source": [
    "__Bag of words__ is a word representation technique that counts the occurence of words existing within documents in the corpus.\n",
    "\n",
    "\n",
    "Term frequency inverted document frequency __(tfidf)__ attempts to weight the importance of a word reversely to its frequency within a document. This is attributed to the fact that highly occuring words within a document might not bear as much of contextual information as less occuring words, which could be more descriptive about the document"
   ]
  },
  {
   "cell_type": "code",
   "execution_count": 28,
   "metadata": {},
   "outputs": [],
   "source": [
    "cv = CountVectorizer()\n",
    "cv_train_reviews = cv.fit_transform(X_train)\n",
    "cv_test_reviews = cv.transform(X_test)\n",
    "\n",
    "tv = TfidfVectorizer()\n",
    "tv_train_reviews = tv.fit_transform(X_train)\n",
    "tv_test_reviews = tv.transform(X_test)"
   ]
  },
  {
   "cell_type": "markdown",
   "metadata": {},
   "source": [
    "### Logistric Regression"
   ]
  },
  {
   "cell_type": "code",
   "execution_count": 29,
   "metadata": {},
   "outputs": [],
   "source": [
    "lr = LogisticRegression(random_state = seed)\n",
    "\n",
    "lr_bow = lr.fit(cv_train_reviews, train_sentiment)\n",
    "lr_tfidf = lr.fit(tv_train_reviews, train_sentiment)\n",
    "\n",
    "lr_bow_predict = lr.predict(cv_test_reviews)\n",
    "lr_tfidf_predict = lr.predict(tv_test_reviews)\n",
    "\n",
    "lr_bow_score = binary_classification_performance(test_sentiment, lr_bow_predict, 'Logistic Regression BoW')\n",
    "lr_tfidf_score = binary_classification_performance(test_sentiment, lr_tfidf_predict, 'Logistic Regression tfidf')"
   ]
  },
  {
   "cell_type": "markdown",
   "metadata": {},
   "source": [
    "### Naive Bayes"
   ]
  },
  {
   "cell_type": "code",
   "execution_count": 30,
   "metadata": {},
   "outputs": [],
   "source": [
    "mnb = MultinomialNB()\n",
    "\n",
    "mnb_bow = mnb.fit(cv_train_reviews,train_sentiment)\n",
    "mnb_tfidf = mnb.fit(tv_train_reviews,train_sentiment)\n",
    "\n",
    "mnb_bow_predict = mnb.predict(cv_test_reviews)\n",
    "mnb_tfidf_predict = mnb.predict(tv_test_reviews)\n",
    "\n",
    "mnb_bow_score = binary_classification_performance(test_sentiment,mnb_bow_predict, 'Naive Bayes BoW')\n",
    "mnb_tfidf_score = binary_classification_performance(test_sentiment,mnb_tfidf_predict, 'Naive Bayes tfidf')"
   ]
  },
  {
   "cell_type": "markdown",
   "metadata": {},
   "source": [
    "# Ngrams (1,2)"
   ]
  },
  {
   "cell_type": "markdown",
   "metadata": {},
   "source": [
    "__Ngrams__ are sets of continuous words found within a document. Their length can be extended by the configurable number parameter. In this case a (1,2) ngram is being selected, meaning a set of two words. Ngrams facilitate text classification as words which bear contextual meaning are matched together.\n",
    "\n",
    "e.g; The neighbour's dog barks loudly -> {The neighbour's} - {neighbour's dog} - {dog barks} - {barks loudly}.\n",
    "\n",
    "As seen on the example above the created ngram can be more representive about a text."
   ]
  },
  {
   "cell_type": "code",
   "execution_count": 31,
   "metadata": {},
   "outputs": [],
   "source": [
    "cv = CountVectorizer(ngram_range = (1,2))\n",
    "cv_train_reviews = cv.fit_transform(X_train)\n",
    "cv_test_reviews = cv.transform(X_test)"
   ]
  },
  {
   "cell_type": "code",
   "execution_count": 32,
   "metadata": {},
   "outputs": [],
   "source": [
    "tv = TfidfVectorizer(ngram_range = (1,2))\n",
    "tv_train_reviews = tv.fit_transform(X_train)\n",
    "tv_test_reviews = tv.transform(X_test)"
   ]
  },
  {
   "cell_type": "markdown",
   "metadata": {},
   "source": [
    "### Logistic Regression"
   ]
  },
  {
   "cell_type": "code",
   "execution_count": 33,
   "metadata": {},
   "outputs": [],
   "source": [
    "lr = LogisticRegression(random_state = seed)\n",
    "\n",
    "lr_bow = lr.fit(cv_train_reviews, train_sentiment)\n",
    "lr_tfidf = lr.fit(tv_train_reviews, train_sentiment)\n",
    "\n",
    "lr_bow_predict = lr.predict(cv_test_reviews)\n",
    "lr_tfidf_predict = lr.predict(tv_test_reviews)\n",
    "\n",
    "lr_bow_score_ngram = binary_classification_performance(test_sentiment, lr_bow_predict, 'Logistic Regression BoW ngram')\n",
    "lr_tfidf_score_ngram = binary_classification_performance(test_sentiment, lr_tfidf_predict, 'Logistic Regression tfidf ngram')"
   ]
  },
  {
   "cell_type": "markdown",
   "metadata": {},
   "source": [
    "### Naive Bayes "
   ]
  },
  {
   "cell_type": "code",
   "execution_count": 34,
   "metadata": {},
   "outputs": [],
   "source": [
    "mnb = MultinomialNB()\n",
    "mnb_bow = mnb.fit(cv_train_reviews,train_sentiment)\n",
    "mnb_tfidf = mnb.fit(tv_train_reviews,train_sentiment)\n",
    "\n",
    "mnb_bow_predict = mnb.predict(cv_test_reviews)\n",
    "mnb_tfidf_predict = mnb.predict(tv_test_reviews)\n",
    "\n",
    "mnb_bow_score_ngram = binary_classification_performance(test_sentiment,mnb_bow_predict, 'Naive Bayes BoW ngram')\n",
    "mnb_tfidf_score_ngram = binary_classification_performance(test_sentiment,mnb_tfidf_predict, 'Naive Bayes tfidf ngram')"
   ]
  },
  {
   "cell_type": "markdown",
   "metadata": {},
   "source": [
    "# Model comparison"
   ]
  },
  {
   "cell_type": "code",
   "execution_count": 35,
   "metadata": {},
   "outputs": [],
   "source": [
    "dfs = (lr_bow_score, lr_tfidf_score, mnb_bow_score, mnb_tfidf_score, \n",
    "       lr_bow_score_ngram, lr_tfidf_score_ngram, mnb_bow_score_ngram, mnb_tfidf_score_ngram)"
   ]
  },
  {
   "cell_type": "code",
   "execution_count": 36,
   "metadata": {},
   "outputs": [],
   "source": [
    "test = pd.concat(dfs)"
   ]
  },
  {
   "cell_type": "code",
   "execution_count": 38,
   "metadata": {
    "scrolled": true
   },
   "outputs": [
    {
     "data": {
      "text/html": [
       "<div>\n",
       "<style scoped>\n",
       "    .dataframe tbody tr th:only-of-type {\n",
       "        vertical-align: middle;\n",
       "    }\n",
       "\n",
       "    .dataframe tbody tr th {\n",
       "        vertical-align: top;\n",
       "    }\n",
       "\n",
       "    .dataframe thead th {\n",
       "        text-align: right;\n",
       "    }\n",
       "</style>\n",
       "<table border=\"1\" class=\"dataframe\">\n",
       "  <thead>\n",
       "    <tr style=\"text-align: right;\">\n",
       "      <th></th>\n",
       "      <th>Accuracy</th>\n",
       "      <th>Precision</th>\n",
       "      <th>Recall</th>\n",
       "      <th>f1 score</th>\n",
       "    </tr>\n",
       "    <tr>\n",
       "      <th>Model</th>\n",
       "      <th></th>\n",
       "      <th></th>\n",
       "      <th></th>\n",
       "      <th></th>\n",
       "    </tr>\n",
       "  </thead>\n",
       "  <tbody>\n",
       "    <tr>\n",
       "      <th>Logistic Regression tfidf</th>\n",
       "      <td>0.889030</td>\n",
       "      <td>0.879033</td>\n",
       "      <td>0.903521</td>\n",
       "      <td>0.891109</td>\n",
       "    </tr>\n",
       "    <tr>\n",
       "      <th>Logistic Regression tfidf ngram</th>\n",
       "      <td>0.886788</td>\n",
       "      <td>0.875058</td>\n",
       "      <td>0.903763</td>\n",
       "      <td>0.889179</td>\n",
       "    </tr>\n",
       "    <tr>\n",
       "      <th>Naive Bayes tfidf ngram</th>\n",
       "      <td>0.884182</td>\n",
       "      <td>0.895108</td>\n",
       "      <td>0.871684</td>\n",
       "      <td>0.883241</td>\n",
       "    </tr>\n",
       "    <tr>\n",
       "      <th>Naive Bayes BoW ngram</th>\n",
       "      <td>0.875515</td>\n",
       "      <td>0.902140</td>\n",
       "      <td>0.843825</td>\n",
       "      <td>0.872009</td>\n",
       "    </tr>\n",
       "    <tr>\n",
       "      <th>Logistic Regression BoW</th>\n",
       "      <td>0.867818</td>\n",
       "      <td>0.840749</td>\n",
       "      <td>0.909190</td>\n",
       "      <td>0.873631</td>\n",
       "    </tr>\n",
       "    <tr>\n",
       "      <th>Logistic Regression BoW ngram</th>\n",
       "      <td>0.863212</td>\n",
       "      <td>0.849450</td>\n",
       "      <td>0.884588</td>\n",
       "      <td>0.866663</td>\n",
       "    </tr>\n",
       "    <tr>\n",
       "      <th>Naive Bayes tfidf</th>\n",
       "      <td>0.857333</td>\n",
       "      <td>0.867450</td>\n",
       "      <td>0.845273</td>\n",
       "      <td>0.856218</td>\n",
       "    </tr>\n",
       "    <tr>\n",
       "      <th>Naive Bayes BoW</th>\n",
       "      <td>0.855333</td>\n",
       "      <td>0.893929</td>\n",
       "      <td>0.808008</td>\n",
       "      <td>0.848800</td>\n",
       "    </tr>\n",
       "  </tbody>\n",
       "</table>\n",
       "</div>"
      ],
      "text/plain": [
       "                                 Accuracy  Precision    Recall  f1 score\n",
       "Model                                                                   \n",
       "Logistic Regression tfidf        0.889030   0.879033  0.903521  0.891109\n",
       "Logistic Regression tfidf ngram  0.886788   0.875058  0.903763  0.889179\n",
       "Naive Bayes tfidf ngram          0.884182   0.895108  0.871684  0.883241\n",
       "Naive Bayes BoW ngram            0.875515   0.902140  0.843825  0.872009\n",
       "Logistic Regression BoW          0.867818   0.840749  0.909190  0.873631\n",
       "Logistic Regression BoW ngram    0.863212   0.849450  0.884588  0.866663\n",
       "Naive Bayes tfidf                0.857333   0.867450  0.845273  0.856218\n",
       "Naive Bayes BoW                  0.855333   0.893929  0.808008  0.848800"
      ]
     },
     "execution_count": 38,
     "metadata": {},
     "output_type": "execute_result"
    }
   ],
   "source": [
    "test.set_index('Model').sort_values('Accuracy', ascending = False)"
   ]
  }
 ],
 "metadata": {
  "kernelspec": {
   "display_name": "Python 3",
   "language": "python",
   "name": "python3"
  },
  "language_info": {
   "codemirror_mode": {
    "name": "ipython",
    "version": 3
   },
   "file_extension": ".py",
   "mimetype": "text/x-python",
   "name": "python",
   "nbconvert_exporter": "python",
   "pygments_lexer": "ipython3",
   "version": "3.7.6"
  }
 },
 "nbformat": 4,
 "nbformat_minor": 4
}
